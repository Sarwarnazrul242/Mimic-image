{
 "cells": [
  {
   "cell_type": "code",
   "execution_count": 2,
   "metadata": {},
   "outputs": [
    {
     "name": "stdout",
     "output_type": "stream",
     "text": [
      "[name: \"/device:CPU:0\"\n",
      "device_type: \"CPU\"\n",
      "memory_limit: 268435456\n",
      "locality {\n",
      "}\n",
      "incarnation: 2949086928834227690\n",
      "xla_global_id: -1\n",
      "]\n",
      "Tensorflow version: 2.17.0\n",
      "Keras version: 3.6.0\n"
     ]
    }
   ],
   "source": [
    "import numpy as np\n",
    "import pandas as pd\n",
    "import os\n",
    "import h5py\n",
    "import matplotlib\n",
    "from matplotlib import pyplot as plt\n",
    "%matplotlib inline\n",
    "matplotlib.style.use('ggplot')\n",
    "\n",
    "from sklearn.model_selection import train_test_split\n",
    "from sklearn.preprocessing import LabelEncoder\n",
    "\n",
    "# Keras\n",
    "import keras\n",
    "from keras.models import Sequential\n",
    "from keras import layers\n",
    "from keras import optimizers\n",
    "from keras import backend as K\n",
    "from keras import regularizers\n",
    "\n",
    "# Tensorflow\n",
    "import tensorflow as tf\n",
    "from tensorflow.python.client import device_lib\n",
    "print(device_lib.list_local_devices())\n",
    "\n",
    "\n",
    "from physionet_processing import fetch_data\n",
    "\n",
    "from physionet_generator import DataGenerator\n",
    "\n",
    "print('Tensorflow version:', tf.__version__)\n",
    "print('Keras version:', keras.__version__)"
   ]
  },
  {
   "cell_type": "code",
   "execution_count": 3,
   "metadata": {},
   "outputs": [
    {
     "name": "stdout",
     "output_type": "stream",
     "text": [
      "Unique labels: ['Atrial Fibrillation' 'Myocardial infarction' 'Ventricular tachycardia']\n",
      "Unique codings: [0 1 2]\n",
      "Dataset labels:\n",
      "    subject_id              icd_title  encoded\n",
      "0    10007058  Myocardial infarction        1\n",
      "1    10007058  Myocardial infarction        1\n",
      "2    10007058  Myocardial infarction        1\n",
      "3    10007058  Myocardial infarction        1\n",
      "4    10007058  Myocardial infarction        1\n",
      "Study ID: 41688028, Path: C:\\Users\\nazrulsa\\Desktop\\Data-Fusion\\files/p1000/p10007058/s41688028/41688028, Label: 1\n",
      "Study ID: 47527771, Path: C:\\Users\\nazrulsa\\Desktop\\Data-Fusion\\files/p1000/p10007058/s47527771/47527771, Label: 1\n",
      "Study ID: 47979034, Path: C:\\Users\\nazrulsa\\Desktop\\Data-Fusion\\files/p1000/p10007058/s47979034/47979034, Label: 1\n",
      "Study ID: 40778825, Path: C:\\Users\\nazrulsa\\Desktop\\Data-Fusion\\files/p1000/p10007058/s40778825/40778825, Label: 1\n",
      "Study ID: 49692275, Path: C:\\Users\\nazrulsa\\Desktop\\Data-Fusion\\files/p1000/p10007058/s49692275/49692275, Label: 1\n"
     ]
    }
   ],
   "source": [
    "data_root = os.path.normpath(\"C:\\\\Users\\\\nazrulsa\\\\Desktop\\\\Data-Fusion\\\\\")  # Base path for MIMIC dataset\n",
    "\n",
    "records_file = os.path.join('.', 'records_filtered.csv')  \n",
    "\n",
    "records_df = pd.read_csv(records_file)\n",
    "\n",
    "label_set = list(sorted(records_df['icd_title'].unique()))\n",
    "encoder = LabelEncoder().fit(label_set)\n",
    "label_set_codings = encoder.transform(label_set)\n",
    "records_df = records_df.assign(encoded=encoder.transform(records_df['icd_title']))\n",
    "\n",
    "print('Unique labels:', encoder.inverse_transform(label_set_codings))\n",
    "print('Unique codings:', label_set_codings)\n",
    "print('Dataset labels:\\n', records_df[['subject_id', 'icd_title', 'encoded']].head())\n",
    "\n",
    "\n",
    "test_split = 0.33\n",
    "idx = np.arange(records_df.shape[0])\n",
    "id_train, id_val, _, _ = train_test_split(idx, idx, \n",
    "                                         test_size=test_split,\n",
    "                                         shuffle=True,\n",
    "                                         random_state=123)\n",
    "\n",
    "\n",
    "partition = {\n",
    "    'train': list(records_df.iloc[id_train]['study_id']),  \n",
    "    'validation': list(records_df.iloc[id_val]['study_id'])\n",
    "}\n",
    "\n",
    "\n",
    "labels = dict(zip(records_df['study_id'], records_df['encoded']))\n",
    "\n",
    "\n",
    "for idx in range(5):\n",
    "    study_id = records_df.iloc[idx]['study_id']\n",
    "    path = os.path.join(data_root, records_df.iloc[idx]['path'])  \n",
    "    label = labels[study_id]\n",
    "    print(f\"Study ID: {study_id}, Path: {path}, Label: {label}\")"
   ]
  },
  {
   "cell_type": "code",
   "execution_count": null,
   "metadata": {},
   "outputs": [],
   "source": []
  }
 ],
 "metadata": {
  "kernelspec": {
   "display_name": ".venv",
   "language": "python",
   "name": "python3"
  },
  "language_info": {
   "codemirror_mode": {
    "name": "ipython",
    "version": 3
   },
   "file_extension": ".py",
   "mimetype": "text/x-python",
   "name": "python",
   "nbconvert_exporter": "python",
   "pygments_lexer": "ipython3",
   "version": "3.12.7"
  }
 },
 "nbformat": 4,
 "nbformat_minor": 2
}
