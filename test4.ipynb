{
 "cells": [
  {
   "cell_type": "code",
   "execution_count": 13,
   "metadata": {},
   "outputs": [],
   "source": [
    "import os\n",
    "import numpy as np\n",
    "import pandas as pd\n",
    "from sklearn.model_selection import train_test_split\n",
    "from sklearn.preprocessing import LabelEncoder\n",
    "from matplotlib import pyplot as plt\n",
    "from keras import optimizers\n",
    "from keras.models import Sequential\n",
    "from keras import layers\n",
    "from keras import regularizers\n",
    "from tensorflow.keras import backend as K\n",
    "from physionet_generator import DataGenerator\n",
    "from physionet_processing import spectrogram"
   ]
  },
  {
   "cell_type": "code",
   "execution_count": 14,
   "metadata": {},
   "outputs": [],
   "source": [
    "# Data paths\n",
    "data_root = os.path.normpath(\"C:\\\\Users\\\\nazrulsa\\\\Desktop\\\\Data-Fusion\\\\\")\n",
    "records_file = os.path.join('.', 'records_filtered.csv')\n",
    "\n",
    "# Load records\n",
    "records_df = pd.read_csv(records_file, names=['subject_id', 'study_id', 'icd_code', 'icd_title', 'path'])\n",
    "\n",
    "# Label encoding\n",
    "label_set = list(sorted(records_df['icd_title'].unique()))\n",
    "encoder = LabelEncoder().fit(label_set)\n",
    "records_df['encoded'] = encoder.transform(records_df['icd_title'])\n",
    "\n",
    "# Split dataset\n",
    "test_split = 0.33\n",
    "idx = np.arange(records_df.shape[0])\n",
    "id_train, id_val = train_test_split(idx, test_size=test_split, shuffle=True, random_state=123)\n",
    "\n",
    "partition = {\n",
    "    'train': list(records_df.iloc[id_train]['study_id']),\n",
    "    'validation': list(records_df.iloc[id_val]['study_id']),\n",
    "}\n",
    "\n",
    "labels = dict(zip(records_df['study_id'], records_df['encoded']))\n"
   ]
  },
  {
   "cell_type": "code",
   "execution_count": 17,
   "metadata": {},
   "outputs": [
    {
     "name": "stdout",
     "output_type": "stream",
     "text": [
      "Shape of ECG data: (5000, 12)\n"
     ]
    }
   ],
   "source": [
    "print(f\"Shape of ECG data: {ecg_data.shape}\")\n"
   ]
  },
  {
   "cell_type": "code",
   "execution_count": 20,
   "metadata": {},
   "outputs": [
    {
     "name": "stdout",
     "output_type": "stream",
     "text": [
      "ECG data shape: (5000, 12)\n",
      "Error calculating spectrogram for lead 0: spectrogram() got an unexpected keyword argument 'fs'\n",
      "Error calculating spectrogram for lead 1: spectrogram() got an unexpected keyword argument 'fs'\n",
      "Error calculating spectrogram for lead 2: spectrogram() got an unexpected keyword argument 'fs'\n",
      "Error calculating spectrogram for lead 3: spectrogram() got an unexpected keyword argument 'fs'\n",
      "Error calculating spectrogram for lead 4: spectrogram() got an unexpected keyword argument 'fs'\n",
      "Error calculating spectrogram for lead 5: spectrogram() got an unexpected keyword argument 'fs'\n",
      "Error calculating spectrogram for lead 6: spectrogram() got an unexpected keyword argument 'fs'\n",
      "Error calculating spectrogram for lead 7: spectrogram() got an unexpected keyword argument 'fs'\n",
      "Error calculating spectrogram for lead 8: spectrogram() got an unexpected keyword argument 'fs'\n",
      "Error calculating spectrogram for lead 9: spectrogram() got an unexpected keyword argument 'fs'\n",
      "Error calculating spectrogram for lead 10: spectrogram() got an unexpected keyword argument 'fs'\n",
      "Error calculating spectrogram for lead 11: spectrogram() got an unexpected keyword argument 'fs'\n"
     ]
    },
    {
     "ename": "RuntimeError",
     "evalue": "No valid spectrograms were generated.",
     "output_type": "error",
     "traceback": [
      "\u001b[1;31m---------------------------------------------------------------------------\u001b[0m",
      "\u001b[1;31mRuntimeError\u001b[0m                              Traceback (most recent call last)",
      "Cell \u001b[1;32mIn[20], line 34\u001b[0m\n\u001b[0;32m     32\u001b[0m \u001b[38;5;66;03m# Validate spectrogram generation\u001b[39;00m\n\u001b[0;32m     33\u001b[0m \u001b[38;5;28;01mif\u001b[39;00m \u001b[38;5;28mlen\u001b[39m(spectrograms) \u001b[38;5;241m==\u001b[39m \u001b[38;5;241m0\u001b[39m:\n\u001b[1;32m---> 34\u001b[0m     \u001b[38;5;28;01mraise\u001b[39;00m \u001b[38;5;167;01mRuntimeError\u001b[39;00m(\u001b[38;5;124m\"\u001b[39m\u001b[38;5;124mNo valid spectrograms were generated.\u001b[39m\u001b[38;5;124m\"\u001b[39m)\n\u001b[0;32m     36\u001b[0m \u001b[38;5;66;03m# Spectrogram dimensions for one lead\u001b[39;00m\n\u001b[0;32m     37\u001b[0m dim \u001b[38;5;241m=\u001b[39m spectrograms[\u001b[38;5;241m0\u001b[39m]\u001b[38;5;241m.\u001b[39mshape  \u001b[38;5;66;03m# Time steps and frequency bins for one lead\u001b[39;00m\n",
      "\u001b[1;31mRuntimeError\u001b[0m: No valid spectrograms were generated."
     ]
    },
    {
     "ename": "",
     "evalue": "",
     "output_type": "error",
     "traceback": [
      "\u001b[1;31mThe Kernel crashed while executing code in the current cell or a previous cell. \n",
      "\u001b[1;31mPlease review the code in the cell(s) to identify a possible cause of the failure. \n",
      "\u001b[1;31mClick <a href='https://aka.ms/vscodeJupyterKernelCrash'>here</a> for more info. \n",
      "\u001b[1;31mView Jupyter <a href='command:jupyter.viewOutput'>log</a> for further details."
     ]
    }
   ],
   "source": [
    "# Parameters for spectrogram\n",
    "spectrogram_nperseg = 64  # Window length\n",
    "spectrogram_noverlap = 32  # Overlap length\n",
    "n_classes = len(label_set)  # Number of classes\n",
    "batch_size = 32  # Batch size\n",
    "\n",
    "# Check ECG data shape\n",
    "print(f\"ECG data shape: {ecg_data.shape}\")  # Should be (5000, 12)\n",
    "\n",
    "# Initialize list for spectrograms\n",
    "spectrograms = []\n",
    "\n",
    "# Iterate through all 12 leads\n",
    "for lead in range(12):\n",
    "    try:\n",
    "        lead_data = ecg_data[:, lead]  # Extract data for the current lead\n",
    "        if lead_data.ndim != 1:  # Ensure it's 1D\n",
    "            raise ValueError(f\"Lead {lead} data is not 1D. Shape: {lead_data.shape}\")\n",
    "        \n",
    "        # Compute the spectrogram\n",
    "        f, t, Sxx = spectrogram(\n",
    "            lead_data,\n",
    "            fs=500,  # Sampling frequency for MIMIC-IV data\n",
    "            nperseg=spectrogram_nperseg,\n",
    "            noverlap=spectrogram_noverlap\n",
    "        )\n",
    "        spectrograms.append(Sxx)\n",
    "    except Exception as e:\n",
    "        print(f\"Error calculating spectrogram for lead {lead}: {e}\")\n",
    "        continue\n",
    "\n",
    "# Validate spectrogram generation\n",
    "if len(spectrograms) == 0:\n",
    "    raise RuntimeError(\"No valid spectrograms were generated.\")\n",
    "\n",
    "# Spectrogram dimensions for one lead\n",
    "dim = spectrograms[0].shape  # Time steps and frequency bins for one lead\n",
    "\n",
    "# Stack spectrograms for all leads\n",
    "stacked_spectrogram = np.stack(spectrograms, axis=-1)  # Shape: (time_steps, frequency_bins, 12)\n",
    "\n",
    "# Output dimension details\n",
    "print(f\"Spectrogram dimensions for one lead: {dim}\")\n",
    "print(f\"Stacked spectrogram dimensions (time_steps, frequency_bins, 12): {stacked_spectrogram.shape}\")\n",
    "print(f\"Number of classes: {n_classes}\")\n"
   ]
  }
 ],
 "metadata": {
  "kernelspec": {
   "display_name": ".venv",
   "language": "python",
   "name": "python3"
  },
  "language_info": {
   "codemirror_mode": {
    "name": "ipython",
    "version": 3
   },
   "file_extension": ".py",
   "mimetype": "text/x-python",
   "name": "python",
   "nbconvert_exporter": "python",
   "pygments_lexer": "ipython3",
   "version": "3.12.7"
  }
 },
 "nbformat": 4,
 "nbformat_minor": 2
}
